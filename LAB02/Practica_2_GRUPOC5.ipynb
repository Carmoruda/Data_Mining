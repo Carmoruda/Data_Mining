{
 "cells": [
  {
   "cell_type": "markdown",
   "metadata": {
    "id": "Cmku494ZkoxN"
   },
   "source": [
    "# Aprendizaje Estadístico y Data Mining\n",
    "\n",
    "## Práctica 2: Patrones Secuenciales\n",
    "\n",
    "### Objetivo\n",
    "El conjunto de datos **“Navegación_Web.csv”** contiene clientes y las acciones que hace en una Web, teniendo estas asociadas un timestamp.\n",
    "\n",
    "* [Link al dataset.](./data/Navegacion_Web.csv)\n",
    "\n",
    "**Enunciado:** Habrá que procesar el fichero para crear una estructura de datos de los distintos clientes con las secuencias de las acciones realizadas en distintos instantes \n",
    "\n",
    "**Solución**\n"
   ]
  },
  {
   "cell_type": "markdown",
   "metadata": {},
   "source": [
    "En primer lugar, realiremos un Dataframe a partir del csv indicado. De esta manera, podremos trabajar más comodamente con los datos,"
   ]
  },
  {
   "cell_type": "code",
   "execution_count": 184,
   "metadata": {},
   "outputs": [
    {
     "name": "stdout",
     "output_type": "stream",
     "text": [
      "     UserID            Timestamp       Action\n",
      "5    User_1  2024-01-01 12:46:08     Wishlist\n",
      "1    User_1  2024-01-01 12:46:09         View\n",
      "39   User_1  2024-01-01 12:46:10  Add to Cart\n",
      "59   User_1  2024-01-01 12:46:16     Purchase\n",
      "51   User_1  2024-01-01 12:46:18     Purchase\n",
      "43   User_1  2024-01-01 12:46:19     Wishlist\n",
      "3    User_1  2024-01-01 12:46:38     Purchase\n",
      "45  User_10  2024-01-01 13:26:00      Contact\n",
      "32  User_10  2024-01-01 13:26:02     Purchase\n",
      "18  User_10  2024-01-01 13:26:12     Purchase\n",
      "37  User_10  2024-01-01 13:26:13  Add to Cart\n",
      "47  User_10  2024-01-01 13:26:14      Contact\n",
      "26   User_2  2024-01-01 12:34:00      Contact\n",
      "42   User_2  2024-01-01 12:34:02         View\n",
      "33   User_2  2024-01-01 12:34:03         View\n",
      "44   User_2  2024-01-01 12:34:29     Purchase\n",
      "20   User_2  2024-01-01 12:34:30         View\n",
      "9    User_3  2024-01-01 12:07:00         View\n",
      "41   User_3  2024-01-01 12:07:23      Contact\n",
      "27   User_3  2024-01-01 12:07:24      Contact\n",
      "54   User_3  2024-01-01 12:07:26  Add to Cart\n",
      "23   User_3  2024-01-01 12:07:56         View\n",
      "8    User_3  2024-01-01 12:07:57       Logout\n",
      "29   User_4  2024-01-01 13:05:58       Search\n",
      "24   User_4  2024-01-01 13:06:17  Add to Cart\n",
      "30   User_4  2024-01-01 13:06:19      Contact\n",
      "2    User_4  2024-01-01 13:06:21  Add to Cart\n",
      "35   User_4  2024-01-01 13:06:37         View\n",
      "53   User_4  2024-01-01 13:06:38      Contact\n",
      "14   User_5  2024-01-01 12:07:00  Add to Cart\n",
      "17   User_5  2024-01-01 12:07:11     Purchase\n",
      "56   User_5  2024-01-01 12:07:12         View\n",
      "34   User_5  2024-01-01 12:07:13  Add to Cart\n",
      "49   User_5  2024-01-01 12:07:19     Wishlist\n",
      "22   User_5  2024-01-01 12:07:20      Contact\n",
      "4    User_6  2024-01-01 12:29:57     Wishlist\n",
      "0    User_6  2024-01-01 12:30:17         View\n",
      "12   User_6  2024-01-01 12:30:18  Add to Cart\n",
      "6    User_6  2024-01-01 12:30:20     Purchase\n",
      "21   User_6  2024-01-01 12:30:44         View\n",
      "16   User_6  2024-01-01 12:30:45       Search\n",
      "57   User_6  2024-01-01 12:30:46         View\n",
      "50   User_7  2024-01-01 12:03:00         View\n",
      "48   User_7  2024-01-01 12:03:02  Add to Cart\n",
      "10   User_7  2024-01-01 12:03:04      Contact\n",
      "11   User_7  2024-01-01 12:03:27  Add to Cart\n",
      "7    User_7  2024-01-01 12:03:29     Purchase\n",
      "40   User_7  2024-01-01 12:03:31       Logout\n",
      "15   User_8  2024-01-01 12:19:00  Add to Cart\n",
      "31   User_8  2024-01-01 12:19:01  Add to Cart\n",
      "55   User_8  2024-01-01 12:19:03     Purchase\n",
      "38   User_8  2024-01-01 12:19:13     Purchase\n",
      "19   User_8  2024-01-01 12:19:15     Purchase\n",
      "25   User_8  2024-01-01 12:19:16     Wishlist\n",
      "13   User_9  2024-01-01 13:10:00      Contact\n",
      "46   User_9  2024-01-01 13:10:02  Add to Cart\n",
      "28   User_9  2024-01-01 13:10:04     Purchase\n",
      "52   User_9  2024-01-01 13:10:32  Add to Cart\n",
      "36   User_9  2024-01-01 13:10:34     Purchase\n",
      "58   User_9  2024-01-01 13:10:35     Wishlist\n"
     ]
    }
   ],
   "source": [
    "import pandas as pd\n",
    "df = pd.read_csv(\"resources/Navegacion_Web.csv\")\n",
    "\n",
    "df = df.sort_values(by=['UserID', 'Timestamp'])\n",
    "\n",
    "print(df)\n"
   ]
  },
  {
   "cell_type": "markdown",
   "metadata": {},
   "source": [
    "Ya con el Dataframe generado, procederemos con la creación de la estructura de datos. Para ello, tendremos en cuenta las transacciones realizadas por cada usuario en cada instante de tiempo, de tal manera que podamos averiguar la secuencia de acciones del mismo. La estructura que estaremos utilizando será un diccionario, cuya *key* sea el ID del usuario, y su valor una lista (que representará la secuencia) de listas (que representarán las transacciones)."
   ]
  },
  {
   "cell_type": "code",
   "execution_count": 185,
   "metadata": {},
   "outputs": [
    {
     "name": "stdout",
     "output_type": "stream",
     "text": [
      "{'User_1': ['Wishlist', 'View', 'Add to Cart', 'Purchase', 'Purchase', 'Wishlist', 'Purchase'], 'User_10': ['Contact', 'Purchase', 'Purchase', 'Add to Cart', 'Contact'], 'User_2': ['Contact', 'View', 'View', 'Purchase', 'View'], 'User_3': ['View', 'Contact', 'Contact', 'Add to Cart', 'View', 'Logout'], 'User_4': ['Search', 'Add to Cart', 'Contact', 'Add to Cart', 'View', 'Contact'], 'User_5': ['Add to Cart', 'Purchase', 'View', 'Add to Cart', 'Wishlist', 'Contact'], 'User_6': ['Wishlist', 'View', 'Add to Cart', 'Purchase', 'View', 'Search', 'View'], 'User_7': ['View', 'Add to Cart', 'Contact', 'Add to Cart', 'Purchase', 'Logout'], 'User_8': ['Add to Cart', 'Add to Cart', 'Purchase', 'Purchase', 'Purchase', 'Wishlist'], 'User_9': ['Contact', 'Add to Cart', 'Purchase', 'Add to Cart', 'Purchase', 'Wishlist']}\n"
     ]
    }
   ],
   "source": [
    "secuencias_usuarios = df.groupby('UserID')['Action'].apply(list).to_dict()\n",
    "\n",
    "print(secuencias_usuarios)"
   ]
  },
  {
   "cell_type": "markdown",
   "metadata": {},
   "source": [
    "Una vez hecho esto y analizando esta información se pueden extraer conclusiones sobre en qué orden compran los clientes los productos y así tomar decisiones de negocio. Este estudio se puede llevar a cabo aplicando el algoritmo Generalized Sequential Patterns utilizando la implementación de éste disponible en la librería *gsppy*.\n",
    "\n",
    "**Enunciado:** Prueba al menos tres configuraciones de soporte diferentes. ¿Qué diferencias hay en los resultados y a que se debe?\n",
    "\n",
    "**Solución**"
   ]
  },
  {
   "cell_type": "markdown",
   "metadata": {},
   "source": [
    "En primer lugar, debemos transformar nuestro diccionario a un formato válido para gsppy. Para ello, realizaremos una lista apartir del diccionario."
   ]
  },
  {
   "cell_type": "code",
   "execution_count": 186,
   "metadata": {},
   "outputs": [
    {
     "name": "stdout",
     "output_type": "stream",
     "text": [
      "Patron de tamaño 1:\n",
      "  Wishlist: 5 ocurrencias\n",
      "  View: 7 ocurrencias\n",
      "  Add to Cart: 9 ocurrencias\n",
      "  Purchase: 8 ocurrencias\n",
      "  Contact: 7 ocurrencias\n",
      "  Logout: 2 ocurrencias\n",
      "  Search: 2 ocurrencias\n",
      "\n",
      "\n",
      "Patron de tamaño 2:\n",
      "  Wishlist -> View: 2 ocurrencias\n",
      "  View -> Add to Cart: 4 ocurrencias\n",
      "  View -> Contact: 2 ocurrencias\n",
      "  Add to Cart -> View: 2 ocurrencias\n",
      "  Add to Cart -> Purchase: 6 ocurrencias\n",
      "  Add to Cart -> Contact: 3 ocurrencias\n",
      "  Purchase -> Wishlist: 3 ocurrencias\n",
      "  Purchase -> View: 3 ocurrencias\n",
      "  Purchase -> Add to Cart: 2 ocurrencias\n",
      "  Contact -> Add to Cart: 4 ocurrencias\n",
      "\n",
      "\n",
      "Patron de tamaño 3:\n",
      "  Wishlist -> View -> Add to Cart: 2 ocurrencias\n",
      "  View -> Add to Cart -> Purchase: 2 ocurrencias\n",
      "  Add to Cart -> Purchase -> View: 2 ocurrencias\n",
      "  Add to Cart -> Contact -> Add to Cart: 2 ocurrencias\n",
      "  Contact -> Add to Cart -> View: 2 ocurrencias\n",
      "  Contact -> Add to Cart -> Purchase: 2 ocurrencias\n",
      "\n",
      "\n",
      "Patron de tamaño 4:\n",
      "  Wishlist -> View -> Add to Cart -> Purchase: 2 ocurrencias\n",
      "\n",
      "\n"
     ]
    }
   ],
   "source": [
    "from gsppy.gsp import GSP # type: ignore\n",
    "import matplotlib.pyplot as plt\n",
    "\n",
    "secuencias = [actions for actions in secuencias_usuarios.values()]\n",
    "resultado1 = GSP(secuencias).search(min_support=0.2)\n",
    "\n",
    "for i, patron in enumerate(resultado1):\n",
    "    print(f\"Patron de tamaño {i + 1}:\")\n",
    "    for patron, frecuencia in patron.items():\n",
    "        patron_str = ' -> '.join(patron)\n",
    "        print(f\"  {patron_str}: {frecuencia} ocurrencias\")\n",
    "    print(\"\\n\")\n"
   ]
  },
  {
   "cell_type": "markdown",
   "metadata": {},
   "source": [
    "Repetiremos este proceso, pero esta vez estableciendo el soporte a 0.3, de tal manera que sea un poco más estricto en cuanto a los valores que pasan y nos queden únicamente datos más relevantes en cuanto a frecuencia."
   ]
  },
  {
   "cell_type": "code",
   "execution_count": 187,
   "metadata": {},
   "outputs": [
    {
     "name": "stdout",
     "output_type": "stream",
     "text": [
      "Patron de tamaño 1:\n",
      "  Wishlist: 5 ocurrencias\n",
      "  View: 7 ocurrencias\n",
      "  Add to Cart: 9 ocurrencias\n",
      "  Purchase: 8 ocurrencias\n",
      "  Contact: 7 ocurrencias\n",
      "\n",
      "\n",
      "Patron de tamaño 2:\n",
      "  View -> Add to Cart: 4 ocurrencias\n",
      "  Add to Cart -> Purchase: 6 ocurrencias\n",
      "  Add to Cart -> Contact: 3 ocurrencias\n",
      "  Purchase -> Wishlist: 3 ocurrencias\n",
      "  Purchase -> View: 3 ocurrencias\n",
      "  Contact -> Add to Cart: 4 ocurrencias\n",
      "\n",
      "\n"
     ]
    }
   ],
   "source": [
    "resultado2 = GSP(secuencias).search(min_support=0.3)\n",
    "\n",
    "for i, patron in enumerate(resultado2):\n",
    "    print(f\"Patron de tamaño {i + 1}:\")\n",
    "    for patron, frecuencia in patron.items():\n",
    "        patron_str = ' -> '.join(patron)\n",
    "        print(f\"  {patron_str}: {frecuencia} ocurrencias\")\n",
    "    print(\"\\n\")"
   ]
  },
  {
   "cell_type": "markdown",
   "metadata": {},
   "source": [
    "Por último, ampliaremos un poco más el soporte a 0.4, para ver si limpamos más aún frecuencias irrelevantes."
   ]
  },
  {
   "cell_type": "code",
   "execution_count": 188,
   "metadata": {},
   "outputs": [
    {
     "name": "stdout",
     "output_type": "stream",
     "text": [
      "Patron de tamaño 1:\n",
      "  Wishlist: 5 ocurrencias\n",
      "  View: 7 ocurrencias\n",
      "  Add to Cart: 9 ocurrencias\n",
      "  Purchase: 8 ocurrencias\n",
      "  Contact: 7 ocurrencias\n",
      "\n",
      "\n",
      "Patron de tamaño 2:\n",
      "  View -> Add to Cart: 4 ocurrencias\n",
      "  Add to Cart -> Purchase: 6 ocurrencias\n",
      "  Contact -> Add to Cart: 4 ocurrencias\n",
      "\n",
      "\n"
     ]
    }
   ],
   "source": [
    "resultado3 = GSP(secuencias).search(min_support=0.4)\n",
    "\n",
    "for i, patron in enumerate(resultado3):\n",
    "    print(f\"Patron de tamaño {i + 1}:\")\n",
    "    for patron, frecuencia in patron.items():\n",
    "        patron_str = ' -> '.join(patron)\n",
    "        print(f\"  {patron_str}: {frecuencia} ocurrencias\")\n",
    "    print(\"\\n\")"
   ]
  },
  {
   "cell_type": "markdown",
   "metadata": {},
   "source": [
    "**Enunciado:** Para una de ellas, interpreta algunos de los patrones secuenciales que te resulten curiosos.\n",
    "\n",
    "**Solución**"
   ]
  },
  {
   "cell_type": "markdown",
   "metadata": {},
   "source": [
    "Interpretaremos los patrones del primero de los estudios, el de soporte = 0.2, ya que es el único que tiene patrones de tamaño superior a 2, lo que hace que podamos encontrar secuencias más interesantes.  \n",
    "\n",
    "En primer lugar, repetiremos el código, pero esta vez sin mostrar los patrones de tamaño 1, ya que no nos interesa."
   ]
  },
  {
   "cell_type": "code",
   "execution_count": null,
   "metadata": {},
   "outputs": [],
   "source": [
    "for i, patron in enumerate(resultado1):\n",
    "    if i + 1 >= 2:  # Solo imprime patrones de tamaño 2 en adelante\n",
    "        print(f\"Patron de tamaño {i + 1}:\")\n",
    "        for secuencia, frecuencia in patron.items():\n",
    "            patron_str = ' -> '.join(secuencia)\n",
    "            print(f\"  {patron_str}: {frecuencia} ocurrencias\")\n",
    "        print(\"\\n\")"
   ]
  },
  {
   "cell_type": "code",
   "execution_count": null,
   "metadata": {},
   "outputs": [],
   "source": []
  },
  {
   "cell_type": "markdown",
   "metadata": {},
   "source": [
    "**Enunciado:** ¿Qué transacción es clave eliminar para cambiar los patrones obtenidos en el punto anterior? ¿Y cuál de las secuencias?\n",
    "\n",
    "**Solución**"
   ]
  },
  {
   "cell_type": "code",
   "execution_count": null,
   "metadata": {},
   "outputs": [],
   "source": []
  }
 ],
 "metadata": {
  "colab": {
   "collapsed_sections": [
    "we3ec_nmqXTb",
    "JmdyuK49OUIQ",
    "udYC3iGR3mTx",
    "CthJqA6a32-K",
    "_5hAKNxWR_Cp"
   ],
   "provenance": []
  },
  "kernelspec": {
   "display_name": "Python 3",
   "language": "python",
   "name": "python3"
  },
  "language_info": {
   "codemirror_mode": {
    "name": "ipython",
    "version": 3
   },
   "file_extension": ".py",
   "mimetype": "text/x-python",
   "name": "python",
   "nbconvert_exporter": "python",
   "pygments_lexer": "ipython3",
   "version": "3.12.9"
  }
 },
 "nbformat": 4,
 "nbformat_minor": 0
}
