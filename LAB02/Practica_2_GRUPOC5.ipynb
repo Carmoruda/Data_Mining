{
  "cells": [
    {
      "cell_type": "markdown",
      "metadata": {
        "id": "Cmku494ZkoxN"
      },
      "source": [
        "# Aprendizaje Estadístico y Data Mining\n",
        "\n",
        "## Práctica 2: Patrones Secuenciales\n",
        "\n",
        "### Objetivo\n",
        "El conjunto de datos **“Navegación_Web.csv”** contiene clientes y las acciones que hace en una Web, teniendo estas asociadas un timestamp.\n",
        "\n",
        "* [Link al dataset.](./data/Navegacion_Web.csv)\n",
        "\n",
        "**Enunciado:** Habrá que procesar el fichero para crear una estructura de datos de los distintos clientes con las secuencias de las acciones realizadas en distintos instantes \n",
        "\n",
        "**Solución**\n"
      ]
    },
    {
      "cell_type": "code",
      "execution_count": null,
      "metadata": {},
      "outputs": [],
      "source": []
    },
    {
      "cell_type": "markdown",
      "metadata": {},
      "source": [
        "Una vez hecho esto y analizando esta información se pueden extraer conclusiones sobre en qué orden compran los clientes los productos y así tomar decisiones de negocio. Este estudio se puede llevar a cabo aplicando el algoritmo Generalized Sequential Patterns utilizando la implementación de éste disponible en la librería *gsppy*.\n",
        "\n",
        "**Enunciado:** Prueba al menos tres configuraciones de soporte diferentes. ¿Qué diferencias hay en los resultados y a que se debe?\n",
        "\n",
        "**Solución**"
      ]
    },
    {
      "cell_type": "code",
      "execution_count": null,
      "metadata": {},
      "outputs": [],
      "source": []
    },
    {
      "cell_type": "markdown",
      "metadata": {},
      "source": [
        "**Enunciado:** Para una de ellas, interpreta algunos de los patrones secuenciales que te resulten curiosos.\n",
        "\n",
        "**Solución**"
      ]
    },
    {
      "cell_type": "code",
      "execution_count": null,
      "metadata": {},
      "outputs": [],
      "source": []
    },
    {
      "cell_type": "markdown",
      "metadata": {},
      "source": [
        "**Enunciado:** ¿Qué transacción es clave eliminar para cambiar los patrones obtenidos en el punto anterior? ¿Y cuál de las secuencias?\n",
        "\n",
        "**Solución**"
      ]
    },
    {
      "cell_type": "code",
      "execution_count": null,
      "metadata": {},
      "outputs": [],
      "source": []
    }
  ],
  "metadata": {
    "colab": {
      "collapsed_sections": [
        "we3ec_nmqXTb",
        "JmdyuK49OUIQ",
        "udYC3iGR3mTx",
        "CthJqA6a32-K",
        "_5hAKNxWR_Cp"
      ],
      "provenance": []
    },
    "kernelspec": {
      "display_name": "Data_mining",
      "language": "python",
      "name": "python3"
    },
    "language_info": {
      "codemirror_mode": {
        "name": "ipython",
        "version": 3
      },
      "file_extension": ".py",
      "mimetype": "text/x-python",
      "name": "python",
      "nbconvert_exporter": "python",
      "pygments_lexer": "ipython3",
      "version": "3.13.2"
    }
  },
  "nbformat": 4,
  "nbformat_minor": 0
}
