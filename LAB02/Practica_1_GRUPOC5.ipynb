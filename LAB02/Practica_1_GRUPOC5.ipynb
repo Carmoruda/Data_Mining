{
  "cells": [
    {
      "cell_type": "markdown",
      "metadata": {
        "id": "Cmku494ZkoxN"
      },
      "source": [
        "# Aprendizaje Estadístico y Data Mining\n",
        "\n",
        "## Práctica 1: Reglas de Asociación\n",
        "\n",
        "### Objetivo\n",
        "Usa  la  librería  *mlxtend*  que  nos  permita  solucionar  todos  los problemas  relacionados  con  las  reglas  de asociación. Para ello tendremos que usar el algoritmo Apriori y una serie de métodos para obtener la distinta \n",
        "información  que  este  genera.  Usaremos  la  librería  con  el  Dataset **Supermercado.csv**  que  se  ha  proporcionado. Prueba al menos tres configuraciones de soporte y da respuesta a las siguientes preguntas. Estas deben estar sustentadas con datos obtenidos durante la práctica y razonadas debidamente. \n",
        "\n",
        "> Nota: También se pueden usar otras librerías como Orange3-Associate o Efficient-A priori.\n",
        "\n",
        "* [Link al dataset.](./data/Supermercado.csv)\n",
        "\n",
        "**Enunciado:** Con un soporte mínimo bajo explica que itemsets frecuentes se generan. Interpreta al menos dos de las reglas\n",
        "que se obtienen con dicho soporte.\n",
        "\n",
        "**Solución**\n",
        "\n"
      ]
    },
    {
      "cell_type": "code",
      "execution_count": null,
      "metadata": {},
      "outputs": [],
      "source": []
    },
    {
      "cell_type": "markdown",
      "metadata": {},
      "source": [
        "**Enunciado:** Qué tipo reglas desaparecen según aumentamos el valor de los soportes usados? ¿Por qué?\n",
        "\n",
        "**Solución**"
      ]
    },
    {
      "cell_type": "code",
      "execution_count": null,
      "metadata": {},
      "outputs": [],
      "source": []
    },
    {
      "cell_type": "markdown",
      "metadata": {},
      "source": [
        "**Enunciado:** Establece ahora el soporte mínimo a 0,3 y juega con la confianza. Primero establécela en un valor bajo y luego en uno alto. Explica que cambios ves en las reglas y porque crees que ocurren dichos cambios. Interpreta la regla que veas más significativa.\n",
        "\n",
        "**Solución**"
      ]
    },
    {
      "cell_type": "code",
      "execution_count": null,
      "metadata": {},
      "outputs": [],
      "source": []
    },
    {
      "cell_type": "markdown",
      "metadata": {},
      "source": [
        "**Enunciado:** Obtén una configuración de soporte y confianza que funcione mejor según tu criterio. Razona y explica cómo has tomado la decisión.\n",
        "\n",
        "**Solución**"
      ]
    },
    {
      "cell_type": "code",
      "execution_count": null,
      "metadata": {},
      "outputs": [],
      "source": []
    },
    {
      "cell_type": "markdown",
      "metadata": {},
      "source": [
        "**Enunciado:** Dadas la que consideres mejor configuración de soporte y confianza. ¿Existen reglas o patrones que se repitan? ¿Podemos generalizar de alguna manera como se comportan los clientes del supermercado?\n",
        "\n",
        "**Solución**"
      ]
    },
    {
      "cell_type": "code",
      "execution_count": null,
      "metadata": {},
      "outputs": [],
      "source": []
    },
    {
      "cell_type": "markdown",
      "metadata": {},
      "source": [
        "**Enunciado:** Con los resultados del apartado anterior, interpreta que ocurre con el lift para al menos dos instancias. \n",
        "\n",
        "**Solución**"
      ]
    },
    {
      "cell_type": "code",
      "execution_count": null,
      "metadata": {},
      "outputs": [],
      "source": []
    },
    {
      "cell_type": "markdown",
      "metadata": {},
      "source": [
        "**Enunciado:** Con la configuración anterior. Primero elimina un número de instancias del producto que crea que es más crítico para generar reglas (deja al menos una instancia). Segundo, realiza un proceso parecido, pero eliminando transacciones. ¿Qué ves que ocurre? Razona porque sucede esto.\n",
        "\n",
        "**Solución**"
      ]
    },
    {
      "cell_type": "code",
      "execution_count": null,
      "metadata": {},
      "outputs": [],
      "source": []
    }
  ],
  "metadata": {
    "colab": {
      "collapsed_sections": [
        "we3ec_nmqXTb",
        "JmdyuK49OUIQ",
        "udYC3iGR3mTx",
        "CthJqA6a32-K",
        "_5hAKNxWR_Cp"
      ],
      "provenance": []
    },
    "kernelspec": {
      "display_name": "Data_mining",
      "language": "python",
      "name": "python3"
    },
    "language_info": {
      "codemirror_mode": {
        "name": "ipython",
        "version": 3
      },
      "file_extension": ".py",
      "mimetype": "text/x-python",
      "name": "python",
      "nbconvert_exporter": "python",
      "pygments_lexer": "ipython3",
      "version": "3.13.2"
    }
  },
  "nbformat": 4,
  "nbformat_minor": 0
}
