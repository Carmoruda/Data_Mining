{
  "cells": [
    {
      "cell_type": "markdown",
      "metadata": {
        "id": "Cmku494ZkoxN"
      },
      "source": [
        "# Aprendizaje Estadístico y Data Mining\n",
        "\n",
        "## Práctica 2: Clasificador de crímenes\n",
        "\n",
        "### Objetivo\n",
        "La ciudad de San Francisco es famosa entre otras cosas por la proliferación de empresas del ámbito tecnológico. Esto ha llevado a una profunda desigualdad entre sus habitantes, por lo que la proliferación de crímenes ha aumentado. Es por ello qué se quiere construir un clasificador que proporcione una serie de reglas de manera que se pueda saber que crímenes se van a cometer teniendo en cuenta el momento del día (noche de 0:00 a 7:59, mañana de 8:00 a 15:59 y tarde de 16:00 a 23:59), día de la semana y distrito. Muestra todos los resultados del algoritmo paso a paso.\n",
        "\n",
        "Para ello usaremos el dataset **“sf_crimenes.csv”** que se encuentra en Moodle. Elige el clasificador que más se adapte de entre los vistos en clase y usa *scikit-learn* junto con las librerías que necesites para resolver las siguientes cuestiones.\n",
        "\n",
        "* [Link al dataset.](./data/sf_crimenes.csv)\n",
        "\n",
        "**Enunciado:**  Crea un clasificador en el que uses al menos dos criterios de división distintos. Calcula el error en cada uno de ellos y elige el qué mejor clasifique.\n",
        "\n",
        "**Solución**\n",
        "\n"
      ]
    },
    {
      "cell_type": "code",
      "execution_count": null,
      "metadata": {},
      "outputs": [],
      "source": []
    },
    {
      "cell_type": "markdown",
      "metadata": {},
      "source": [
        "**Enunciado:** Dibuja el modelo elegido en el punto anterior. \n",
        "\n",
        "**Solución**"
      ]
    },
    {
      "cell_type": "code",
      "execution_count": null,
      "metadata": {},
      "outputs": [],
      "source": []
    },
    {
      "cell_type": "markdown",
      "metadata": {},
      "source": [
        "**Enunciado:** Selecciona tres reglas que sean las que generalicen lo menos posible y otras tres que especialicen los menos posible. Interprétalas.\n",
        "\n",
        "**Solución**"
      ]
    },
    {
      "cell_type": "code",
      "execution_count": null,
      "metadata": {},
      "outputs": [],
      "source": []
    },
    {
      "cell_type": "markdown",
      "metadata": {},
      "source": [
        "**Enunciado:** Usa tu clasificador para decidir qué tipos de crímenes ocurrirán una mañana de jueves en el distrito de Taraval. También para uno que ocurra la noche del sábado en el distrito de Park. Por último, un lunes por la mañana en el distrito Central.\n",
        "\n",
        "**Solución**"
      ]
    },
    {
      "cell_type": "code",
      "execution_count": null,
      "metadata": {},
      "outputs": [],
      "source": []
    }
  ],
  "metadata": {
    "colab": {
      "collapsed_sections": [
        "we3ec_nmqXTb",
        "JmdyuK49OUIQ",
        "udYC3iGR3mTx",
        "CthJqA6a32-K",
        "_5hAKNxWR_Cp"
      ],
      "provenance": []
    },
    "kernelspec": {
      "display_name": "Data_mining",
      "language": "python",
      "name": "python3"
    },
    "language_info": {
      "codemirror_mode": {
        "name": "ipython",
        "version": 3
      },
      "file_extension": ".py",
      "mimetype": "text/x-python",
      "name": "python",
      "nbconvert_exporter": "python",
      "pygments_lexer": "ipython3",
      "version": "3.13.2"
    }
  },
  "nbformat": 4,
  "nbformat_minor": 0
}
