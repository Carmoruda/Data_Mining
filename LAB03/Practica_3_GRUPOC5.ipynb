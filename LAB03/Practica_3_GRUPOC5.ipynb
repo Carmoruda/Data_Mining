{
  "cells": [
    {
      "cell_type": "markdown",
      "metadata": {
        "id": "Cmku494ZkoxN"
      },
      "source": [
        "# Aprendizaje Estadístico y Data Mining\n",
        "\n",
        "## Práctica 3: Especies de monos\n",
        "\n",
        "### Objetivo\n",
        "El etiquetado de imágenes es una tarea ardua. Es por ello y también debido a sus aplicaciones prácticas que los científicos llevan un tiempo intentando mejorar los métodos para clasificarlas automáticamente. En la aduana del aeropuerto de Madrid se intenta luchar contra el tráfico de animales exóticos. Para ello se va a crear un clasificador que realizando una foto a un animal (en este caso monos) pueda decidir si pertenece a una especie en peligro de extinción o no. Dicho clasificador funcionará mediante un set de entrenamiento donde se buscará un plano que divida las diferentes clases dispuesta en un espacio n-dimensional dependiendo de sus características. Muestra todos los resultados del algoritmo paso a paso.\n",
        "\n",
        "Para ello usaremos el dataset **“monos.zip”** que se encuentra en *scikit-learn*. Elige el clasificador que más se adapte de entre los vistos en clase y usa *scikit-learn* junto con las librerías que necesites para resolver las siguientes cuestiones.\n",
        "\n",
        "* [Link al dataset.](https://www.kaggle.com/datasets/slothkong/10-monkey-species?select=validation)\n",
        "\n",
        "**Enunciado:**  Crea un clasificador que permita saber qué especie de mono es a partir de una imagen. Realiza al menos dos configuraciones y dibuja una tabla donde se muestre la precisión con la que clasifican.\n",
        "\n",
        "**Solución**\n",
        "\n"
      ]
    },
    {
      "cell_type": "code",
      "execution_count": null,
      "metadata": {},
      "outputs": [],
      "source": []
    },
    {
      "cell_type": "markdown",
      "metadata": {},
      "source": [
        "**Enunciado:** Elige 5 imágenes de diferentes especies que no hayas usado ni para entrenar el modelo, ni para evaluarlo y clasifícalas. Usa para ello el modelo que mejor clasifique de los del punto anterior. Índica con que error ha funcionado el clasificador.\n",
        "\n",
        "**Solución**"
      ]
    },
    {
      "cell_type": "code",
      "execution_count": null,
      "metadata": {},
      "outputs": [],
      "source": []
    }
  ],
  "metadata": {
    "colab": {
      "collapsed_sections": [
        "we3ec_nmqXTb",
        "JmdyuK49OUIQ",
        "udYC3iGR3mTx",
        "CthJqA6a32-K",
        "_5hAKNxWR_Cp"
      ],
      "provenance": []
    },
    "kernelspec": {
      "display_name": "Data_mining",
      "language": "python",
      "name": "python3"
    },
    "language_info": {
      "codemirror_mode": {
        "name": "ipython",
        "version": 3
      },
      "file_extension": ".py",
      "mimetype": "text/x-python",
      "name": "python",
      "nbconvert_exporter": "python",
      "pygments_lexer": "ipython3",
      "version": "3.13.2"
    }
  },
  "nbformat": 4,
  "nbformat_minor": 0
}
