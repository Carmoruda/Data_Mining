{
  "cells": [
    {
      "cell_type": "markdown",
      "metadata": {
        "id": "Cmku494ZkoxN"
      },
      "source": [
        "# Aprendizaje Estadístico y Data Mining\n",
        "\n",
        "## Práctica 4: Desguace Beni\n",
        "\n",
        "### Objetivo\n",
        "Un desguace de Madrid quiere automatizar la entrada de coches para ser más óptimo a la hora de despiezarlos y separar las distintas partes de los coches que reciben. Para ello han decidido crear un clasificador basado en las diferentes características de los coches y la probabilidad que pertenezca a una clase de coche u otra.\n",
        "\n",
        "Para ello usaremos el dataset **“cars.csv”** que se encuentra en Moodle. Elige el clasificador que más se adapte de entre los vistos en clase y usa *scikit-learn* junto con las librerías que necesites para resolver las siguientes cuestiones. Muestra todos los resultados del algoritmo paso a paso.\n",
        "\n",
        "* [Link al dataset.](https://ufv-es.instructure.com/courses/42756/files/6048677/download?download_frd=1)\n",
        "\n",
        "**Enunciado:**  Realiza todo el preprocesamiento necesario para poder entrenar el clasificador. (Ojo: las temperaturas están en grados Celsius.) \n",
        "\n",
        "**Solución**\n",
        "\n"
      ]
    },
    {
      "cell_type": "code",
      "execution_count": null,
      "metadata": {},
      "outputs": [],
      "source": []
    },
    {
      "cell_type": "markdown",
      "metadata": {},
      "source": [
        "**Enunciado:** Crea un clasificador e indica su error. Úsalo para saber a qué clase corresponden al menos 5 coches que no hayas usado para entrenar el modelo.\n",
        "\n",
        "**Solución**"
      ]
    },
    {
      "cell_type": "code",
      "execution_count": null,
      "metadata": {},
      "outputs": [],
      "source": []
    }
  ],
  "metadata": {
    "colab": {
      "collapsed_sections": [
        "we3ec_nmqXTb",
        "JmdyuK49OUIQ",
        "udYC3iGR3mTx",
        "CthJqA6a32-K",
        "_5hAKNxWR_Cp"
      ],
      "provenance": []
    },
    "kernelspec": {
      "display_name": "Data_mining",
      "language": "python",
      "name": "python3"
    },
    "language_info": {
      "codemirror_mode": {
        "name": "ipython",
        "version": 3
      },
      "file_extension": ".py",
      "mimetype": "text/x-python",
      "name": "python",
      "nbconvert_exporter": "python",
      "pygments_lexer": "ipython3",
      "version": "3.13.2"
    }
  },
  "nbformat": 4,
  "nbformat_minor": 0
}
