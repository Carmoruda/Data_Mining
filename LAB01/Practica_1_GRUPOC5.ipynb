{
  "cells": [
    {
      "cell_type": "markdown",
      "metadata": {
        "id": "Cmku494ZkoxN"
      },
      "source": [
        "# Aprendizaje Estadístico y Data Mining\n",
        "\n",
        "## Práctica 1: Impacto de las restricciones de tráfico en la calidad del aire\n",
        "\n",
        "### Objetivo\n",
        "El 30 de diciembre de 2016 el Ayuntamiento de Madrid empieza a restringir el tráfico al centro de la ciudad\n",
        "mediante la aplicación del escenario 3 del protocolo de contaminación. Esta fue la primera vez que se aplicó\n",
        "un escenario tan restrictivo. Demuestra mediante visualizaciones de datos que ha ocurrido después de ello.\n",
        "Para dicho problema, haremos uso de un dataset con datos sobre la calidad del aire en Madrid desde 2001. El\n",
        "dataset contiene un archivo csv por año. Dentro de cada uno de ellos habrá medidas diarias de distintas\n",
        "estaciones. Estas estaciones miden diferentes parámetros y no siempre todos se registran en cada una de las\n",
        "estaciones.\n",
        "\n",
        "* [Link al dataset.](https://www.kaggle.com/decide-soluciones/air-quality-madrid/downloads/csvs_per_year.zip/)\n",
        "\n",
        "### Apartado 1\n",
        "\n",
        "**Enunciado:** Cargar los archivos CSV en un único DataFrame, identificar y corregir posibles datos redundantes o anómalos, calcular la calidad del aire diario promediando los valores de las estaciones meteorológicas, estimar el primer valor según la tabla proporcionada, transformar los valores continuos a categóricos, almacenar la información en un DataFrame y guardarla en un archivo CSV, y finalmente determinar la calidad del aire general considerando el peor índice de las cinco partículas indicadas en la tabla.\n",
        "\n",
        "<img src=\"./media/Enunciado%20Apartado%201.png\" width=\"50%\">\n",
        "\n",
        "**Solución**\n",
        "\n",
        "Cargamos los archivos CSV correspondientes a los datos de calidad del aire."
      ]
    },
    {
      "cell_type": "code",
      "execution_count": null,
      "metadata": {},
      "outputs": [],
      "source": [
        "%reset\n",
        "import matplotlib.pyplot as plt\n",
        "import pandas as pd\n",
        "import os\n",
        "import glob\n",
        "import numpy as np\n",
        "import seaborn as sns\n",
        "\n",
        "ruta1_csvs = \"data/csvs_per_year/csvs_per_year/\"\n",
        "ruta2_csvs = \"data/stations.csv\"\n",
        "\n",
        "#Capturo todos los datos de Madrid desde 2001-2018 usando la librería glob para capturar los .csv\n",
        "archivos_madrid_csv = glob.glob(os.path.join(ruta1_csvs, \"*.csv\"))\n",
        "#Usando pandas, leemos y combinamos los archivos en un único Dataframe\n",
        "df_madrid_sin_filtrar = pd.concat([pd.read_csv(archivo) for archivo in archivos_madrid_csv], ignore_index=True)\n",
        "\n",
        "\n",
        "#Con el csv de stations, al ser uno solo, podemos leerlo y añadirlo directamente a otro Dataframe para diferenciar entre sets de datos.\n",
        "df_stations = pd.read_csv(ruta2_csvs)\n",
        "\n",
        "#Seleccionamos solo las columnas necesarias para medir la contaminación de cada día\n",
        "columnas_necesarias = ['date', 'PM25', 'PM10', 'NO_2', 'O_3', 'SO_2', 'station']\n",
        "#Declaramos también aquellas columnas que contienen únicamente las partículas necesarias para calcular la contaminación\n",
        "columnas_calidad_aire = ['PM25', 'PM10', 'NO_2', 'O_3', 'SO_2']\n",
        "#Filtramos el DataFrame para quedarnos solo con estas columnas\n",
        "df_madrid = df_madrid_sin_filtrar[columnas_necesarias]\n",
        "\n",
        "categoria_a_indice = {\n",
        "    \"Muy malo\": 0,\n",
        "    \"Malo\": 1,\n",
        "    \"Regular\": 2,\n",
        "    \"Bueno\": 3,\n",
        "    \"Muy bueno\": 4\n",
        "}"
      ]
    },
    {
      "cell_type": "markdown",
      "metadata": {},
      "source": [
        "En primer lugar, verificaremos que porcentaje de datos nulos hay por columna, para decidir si borrarlas o mantenerlas."
      ]
    },
    {
      "cell_type": "code",
      "execution_count": null,
      "metadata": {},
      "outputs": [],
      "source": [
        "# Visualizamos el porcentaje de valores nulos por cada columna\n",
        "print(\"PORCENTAJE DE VALORES NULOS POR COLUMNA DEL DF MADRID\")\n",
        "print((df_madrid.isnull().sum() / (df_madrid.count() + df_madrid.isnull().sum())) * 100)\n",
        "df_madrid = df_madrid.dropna(subset=['PM25', 'PM10', 'NO_2', 'O_3', 'SO_2'], how='all')\n"
      ]
    },
    {
      "cell_type": "markdown",
      "metadata": {},
      "source": [
        "A continuación, nos deshacemos de aquellas filas duplicadas que puedan aparecer:"
      ]
    },
    {
      "cell_type": "code",
      "execution_count": null,
      "metadata": {},
      "outputs": [],
      "source": [
        "# Buscamos duplicados, y nos deshacemos de ellos para evitar redundancias\n",
        "duplicados = df_madrid.duplicated().sum()\n",
        "print(\"En este dataframe encontramos \", duplicados, \" datos duplicados\")\n",
        "df_madrid = df_madrid.drop_duplicates()"
      ]
    },
    {
      "cell_type": "markdown",
      "metadata": {},
      "source": [
        "Por último, habría que comprobar si existen datos recogidos de estaciones de las que no tengamos registro."
      ]
    },
    {
      "cell_type": "code",
      "execution_count": null,
      "metadata": {},
      "outputs": [],
      "source": [
        "print(\"Estaciones en df que no están en df_stations:\")\n",
        "estaciones_sin_registro = set(df_madrid[\"station\"]) - set(df_stations[\"id\"])\n",
        "\n",
        "# Eliminamos aquellas filas cuya estación no aparezca en nuestro df de estaciones\n",
        "df_madrid = df_madrid[~df_madrid[\"station\"].isin(estaciones_sin_registro)]\n",
        "\n",
        "# Por último, nos cercioraremos de que los datos de fechas estén en el formato deseado.\n",
        "df_madrid['date'] = pd.to_datetime(df_madrid['date'])"
      ]
    },
    {
      "cell_type": "markdown",
      "metadata": {},
      "source": [
        "Calcularemos la calidad del aire de cada día, agrupando los datos por fecha y estación, y obteniendo el peor dato de las 5 partículas para pasar el dato continuo a categórico."
      ]
    },
    {
      "cell_type": "code",
      "execution_count": null,
      "metadata": {},
      "outputs": [],
      "source": [
        "df_calidad_diario = df_madrid\n",
        "# Encontramos el peor valor (o el maximo) de las 5 partículas contaminantes,\n",
        "# y guardamos en otra columna el valor y de que partícula se trata\n",
        "df_calidad_diario['calidad_cuantitativa'] = df_calidad_diario[columnas_calidad_aire].max(axis=1)\n",
        "df_calidad_diario['particula_maxima'] = df_calidad_diario[columnas_calidad_aire].idxmax(axis=1)"
      ]
    },
    {
      "cell_type": "markdown",
      "metadata": {},
      "source": [
        "Para categorizar, es decir, pasar de continuo a categórico, usaremos una función que podrá usar cualquier dataframe de aquí en adelante."
      ]
    },
    {
      "cell_type": "code",
      "execution_count": null,
      "metadata": {},
      "outputs": [],
      "source": [
        "# Esta función añadirá un campo extra de \"calidad categórica\" cualquier dataframe que contenga los campos\n",
        "# \"calidad_cuantitativa\" y \"partícula_maxima\", siguiendo la tabla del enunciado.\n",
        "def categorizar(df):\n",
        "    condiciones = [\n",
        "        (df['particula_maxima'] == 'PM25'),\n",
        "        (df['particula_maxima'] == 'PM10'),\n",
        "        (df['particula_maxima'] == 'NO_2'),\n",
        "        (df['particula_maxima'] == 'O_3'),\n",
        "        (df['particula_maxima'] == 'SO_2')\n",
        "    ]\n",
        "\n",
        "    # np select funciona mediante condiciones. Aplicando los rangos vistos en la imagen del enunciado que distamina las categorías, asignamos una calidad categórica a cada calidad_cuantitativa según la partícula máxima obtenida (de entre las 5).\n",
        "    categorias = [\n",
        "        np.select([df['calidad_cuantitativa'] <= 15, df['calidad_cuantitativa'] <= 30, df['calidad_cuantitativa'] <= 55, df['calidad_cuantitativa'] <= 110],\n",
        "                  ['Muy bueno', 'Bueno', 'Regular', 'Malo'], default='Muy malo'),\n",
        "        np.select([df['calidad_cuantitativa'] <= 25, df['calidad_cuantitativa'] <= 50, df['calidad_cuantitativa'] <= 90, df['calidad_cuantitativa'] <= 180],\n",
        "                  ['Muy bueno', 'Bueno', 'Regular', 'Malo'], default='Muy malo'),\n",
        "        np.select([df['calidad_cuantitativa'] <= 50, df['calidad_cuantitativa'] <= 100, df['calidad_cuantitativa'] <= 200, df['calidad_cuantitativa'] <= 400],\n",
        "                  ['Muy bueno', 'Bueno', 'Regular', 'Malo'], default='Muy malo'),\n",
        "        np.select([df['calidad_cuantitativa'] <= 60, df['calidad_cuantitativa'] <= 120, df['calidad_cuantitativa'] <= 180, df['calidad_cuantitativa'] <= 240],\n",
        "                  ['Muy bueno', 'Bueno', 'Regular', 'Malo'], default='Muy malo'),\n",
        "        np.select([df['calidad_cuantitativa'] <= 50, df['calidad_cuantitativa'] <= 100, df['calidad_cuantitativa'] <= 350, df['calidad_cuantitativa'] <= 500],\n",
        "                  ['Muy bueno', 'Bueno', 'Regular', 'Malo'], default='Muy malo')\n",
        "    ]\n",
        "\n",
        "    # Asignamos el índice correspondiente a cada categoría, para normalizar los datos y podemos trabajar con valores numericos sencillos en los ejercicios posteriores.\n",
        "    df['calidad_categorica'] = np.select(condiciones, categorias, default='Muy malo')\n",
        "    df['indice'] = df['calidad_categorica'].map(categoria_a_indice)\n",
        "\n",
        "    return df"
      ]
    },
    {
      "cell_type": "markdown",
      "metadata": {},
      "source": [
        "Una vez definida la función que categorizará nuestros dataframes, la aplicamos al dataframe que contendrá la calidad del aire de todos los datos proporcionados por los csv."
      ]
    },
    {
      "cell_type": "code",
      "execution_count": null,
      "metadata": {},
      "outputs": [],
      "source": [
        "df_calidad_diario = categorizar(df_calidad_diario)\n",
        "\n",
        "# Guardamos este dataframe en un csv, para analizarlo en caso de duda.\n",
        "df_calidad_diario.to_csv('output/calidades_aire_diario.csv', index=False)"
      ]
    },
    {
      "cell_type": "markdown",
      "metadata": {},
      "source": [
        "Una vez tenemos la partícula con mayor índice, comparamos entre estaciones que hayan recabado datos para cada día en concreto, para hallar la media de cada día."
      ]
    },
    {
      "cell_type": "code",
      "execution_count": null,
      "metadata": {},
      "outputs": [],
      "source": [
        "# Para ello, utilizaremos una función genérica, que será capaz de agrupar por x periodo (dias, meses, años, etc...)\n",
        "#  y que encontrará la media para cada tipo de agrupación.\n",
        "def calcular_medias_por_periodo(df, periodo):\n",
        "    # Dependiendo del parámetro de periodo, agruparemos y haremos la media de los índices segun (dia, mes, año).\n",
        "    df['date'] = df['date'].dt.to_period(periodo)\n",
        "    df_resultado = df.groupby('date')['indice'].mean().reset_index()\n",
        "\n",
        "    indice_a_categoria = {\n",
        "        0: \"Muy malo\",\n",
        "        1: \"Malo\",\n",
        "        2: \"Regular\",\n",
        "        3: \"Bueno\",\n",
        "        4: \"Muy bueno\"\n",
        "    }\n",
        "    df_resultado['categoria_media'] = df_resultado['indice'].round().astype(int).map(indice_a_categoria)\n",
        "    return df_resultado"
      ]
    },
    {
      "cell_type": "code",
      "execution_count": null,
      "metadata": {},
      "outputs": [],
      "source": [
        "# Agrupando por días, creamos un dataframe que tiene en cuenta todos los datos que hay para cada día y obtiene la media general\n",
        "df_calidad_diario['date'] = df_calidad_diario['date'].astype(str).pipe(pd.to_datetime)\n",
        "df_media_max_por_dia = calcular_medias_por_periodo(df_calidad_diario, \"D\")\n",
        "\n",
        "df_media_max_por_dia.to_csv('output/medias_por_dia.csv', index=False)"
      ]
    },
    {
      "cell_type": "markdown",
      "metadata": {},
      "source": [
        "### Apartado 2\n",
        "\n",
        "**Enunciado:** Visualizar la distribución de la calidad del aire en las categorías buena, admisible, mala y muy mala mediante un gráfico de tipo pie chart. Analizar la representación obtenida y extraer conclusiones sobre la proporción de cada categoría en los datos.\n",
        "\n",
        "**Solución**"
      ]
    },
    {
      "cell_type": "markdown",
      "metadata": {},
      "source": [
        "Usaremos una función genérica para graficar pie charts dado un dataframe cualquiera."
      ]
    },
    {
      "cell_type": "code",
      "execution_count": null,
      "metadata": {},
      "outputs": [],
      "source": [
        "def graficar_pie_chart(df):\n",
        "    # Comenzamos obteniendo los datos que se representarán en el gráfico, que dependerá de las categorías de calidades obtenidas\n",
        "    secciones = df['categoria_media'].value_counts()\n",
        "\n",
        "    #Asignamos colores reconocibles a cada categoría, y sus respectivas etiquetas\n",
        "    colores = [\"#AAF683\",\"#60D394\",\"#FFD97D\",\"darkred\",\"#EE6055\"]\n",
        "    etiquetas = secciones.index\n",
        "    if secciones.size == 4 :\n",
        "        desfase = (0.05, 0.05, 0.07, 0.1)\n",
        "    elif secciones.size == 3:\n",
        "        desfase = (0.05, 0.05, 0.1)\n",
        "    else:\n",
        "        desfase = (0.05, 0.05, 0.07, 0.1, 0.1)\n",
        "\n",
        "    # Con los datos del DataFrame de Calidades, graficamos el pie chart, asignándole un radio para obtener el pie chart deseado\n",
        "    plt.figure(figsize=(8, 8))\n",
        "    plt.pie(secciones, labels= etiquetas, autopct=\"%0.3f %%\", colors=colores, explode=desfase)\n",
        "    plt.axis('equal')\n",
        "    plt.show()"
      ]
    },
    {
      "cell_type": "markdown",
      "metadata": {},
      "source": [
        "Representaremos las distintas categorías de calidades de aire en un gráfico circular (pie chart). En este primer pie chart recogemos todos los datos disponibles desde 2001 hasta 2018, usando únicamente las medias categóricas de todas las calidades recogidas para cada día. En general, podemos observar como los datos son bastante positivos, resaltando que la calidad del aire \"Muy mala\" apenas llega al 0.01%."
      ]
    },
    {
      "cell_type": "code",
      "execution_count": null,
      "metadata": {},
      "outputs": [],
      "source": [
        "graficar_pie_chart(df_media_max_por_dia)"
      ]
    },
    {
      "cell_type": "markdown",
      "metadata": {},
      "source": [
        "Este pie chart muestra las calidades de aire medias por cada día que se registraron desde inicios de 2001 hasta principios del 2018. Son datos en los que destaca la presencia mayoritaria de las calidades \"Muy buena\" y \"Buena\", ya que rondan el 80% de todos los datos recogidos. Sin embargo, que en el 20% de los días se hayan registrado calidades del aire contaminantes puede explicar el porqué se implantaron estas medidas tan restrictivas. Antes de concluir nada, habría que cerciorarnos de cómo eran los datos antes y después del día en que se implantaron dichas medidas."
      ]
    },
    {
      "cell_type": "markdown",
      "metadata": {},
      "source": [
        "### Apartado 3\n",
        "\n",
        "**Enunciado:** Calcular la calidad media del aire para cada mes con el objetivo de evaluar la evolución de la contaminación tras la restricción de acceso al centro de Madrid. Representar visualmente los resultados mediante un diagrama de barras para analizar el impacto de las restricciones de tráfico. Comparar los valores antes y después de la implementación del protocolo y determinar si se observa una mejora en la calidad del aire.\n",
        "\n",
        "**Solución**"
      ]
    },
    {
      "cell_type": "code",
      "execution_count": null,
      "metadata": {},
      "outputs": [],
      "source": [
        "# Debido a que la función que agrupa por x tipo de periodo solo acepta datos no convertidos a Datetime, convertimos el campo date a str para evitar conflictos\n",
        "df_media_max_por_dia['date'] = df_media_max_por_dia['date'].astype(str).pipe(pd.to_datetime)\n",
        "\n",
        "# Agrupando por meses, y reutilizando estas dos funciones principales, conseguimos obtener la media que se produjo en cada mes desde 2001 hasta 2018\n",
        "df_media_max_por_mes = calcular_medias_por_periodo(df_media_max_por_dia, \"M\")\n",
        "\n",
        "# Por último, guardamos los resultados en un csv nuevo.\n",
        "df_media_max_por_mes.to_csv('output/medias_por_mes.csv', index=False)\n",
        "\n",
        "# Volvemos a convertir al tipo de date apropiado para evitar futuros conflictos con el tipo de dato\n",
        "df_media_max_por_dia['date'] = df_media_max_por_dia['date'].astype(str).pipe(pd.to_datetime)\n"
      ]
    },
    {
      "cell_type": "markdown",
      "metadata": {},
      "source": [
        "Filtramos ahora desde enero 2001 hasta diciembre 2016, y desde diciembre 2016 hasta abril 2018, para conocer con mas exactitud si las medidas tuvieron repercusiones positivas o insignificantes. Usaremos diagramas de barras, para observar la proporción de las categorías de calidad a lo largo de esos meses."
      ]
    },
    {
      "cell_type": "code",
      "execution_count": null,
      "metadata": {},
      "outputs": [],
      "source": [
        "def graficar_barras(df):\n",
        "    colores = []\n",
        "    for indice in df['indice']:\n",
        "        if 0 <= indice < 0.5:\n",
        "            colores.append('darkred')\n",
        "        elif 0.5 <= indice < 2:\n",
        "            colores.append('red')\n",
        "        elif 2 <= indice < 3:\n",
        "            colores.append('#FFB74D')\n",
        "        elif 3 <= indice < 3.5:\n",
        "            colores.append('#4CAF50')\n",
        "        elif 3.5 <= indice < 4:\n",
        "            colores.append('#64B5F6')\n",
        "\n",
        "    df['date'] = df['date'].astype(str).pipe(pd.to_datetime)\n",
        "\n",
        "    plt.figure(figsize=(16, 6))\n",
        "    # Creamos el grafico de barras teniendo en cuenta los meses, y los índices medios que se obtuvieron en cada mes\n",
        "    plt.bar(df['date'], df['indice'], color=colores, width=25)\n",
        "\n",
        "    # En vez de poner en las etiquetas del eje x todos los meses, ponemos únicamente el año.\n",
        "    plt.xticks(df['date'][::12], df['date'].dt.year[::12], rotation=45)\n",
        "\n",
        "    plt.xlabel(\"Años\")\n",
        "    plt.ylabel(\"Índice Medio de Calidad del Aire\")\n",
        "    plt.title(\"Distribución de la Calidad del Aire por Mes\")\n",
        "    plt.grid(axis='y', linestyle='--', alpha=0.7)\n",
        "\n",
        "    plt.axvline(x=pd.Timestamp('2016-12-01'), color='black', linestyle='--', linewidth=2)\n",
        "\n",
        "    plt.show()\n",
        "\n",
        "graficar_barras(df_media_max_por_mes)\n"
      ]
    },
    {
      "cell_type": "markdown",
      "metadata": {},
      "source": [
        "La mejoría es poco visible a primera vista. El primer grafo muestra valores de índices que oscilan entre 2.5(Regular-Bueno) y 3.5(Bueno-Muy bueno), por lo que no parecen datos preocupantes los obtenidos en el periodo en el que madrid estuvo sin restricciones de acceso. Debemos tener en cuenta que en Madrid existen actualmente 1,4 millones de coches activos, lo que son aproximadamente 1.07 coches por vivienda. Estos valores nos dicen que, para la cantidad de personas que pueden conducir que hay en Madrid (2,22 millones), no son tantos vehículos.\n",
        "Además, para determinar si verdaderamente fueron necesarias dichas medidas, deberíamos tener en cuenta también la cantidad de coches que entran diariamente a Madrid Centro. \n",
        "Teniendo en cuenta únicamente los datos disponibles, podemos afirmar que si fueron beneficiosas para el medio ambiente, pero no es que hubiese un problema gravísimo de contaminación que pidiese la instauración de estas medidas tan extremas."
      ]
    },
    {
      "cell_type": "markdown",
      "metadata": {},
      "source": [
        "### Apartado 4\n",
        "\n",
        "**Enunciado:** Generar un diagrama de cajas donde cada caja represente la calidad del aire en un año distinto para visualizar la evolución de la contaminación a lo largo del tiempo. Analizar la dispersión, los valores atípicos y la tendencia general de los datos, interpretando si ha habido mejoras o empeoramientos en la calidad del aire en los últimos años.\n",
        "\n",
        "**Solución**"
      ]
    },
    {
      "cell_type": "markdown",
      "metadata": {},
      "source": [
        "A partir del dataframe de medias de calidad por mes, contruimos un diagrama de cajas en el que cada cada agrupe la información de 12 meses, para poder ver los cambios de un año para otro."
      ]
    },
    {
      "cell_type": "code",
      "execution_count": null,
      "metadata": {},
      "outputs": [],
      "source": [
        "import seaborn as sns\n",
        "import matplotlib.pyplot as plt\n",
        "\n",
        "def graficar_boxplot(df):\n",
        "    plt.figure(figsize=(14, 7))\n",
        "\n",
        "    sns.set_theme(style=\"whitegrid\")\n",
        "\n",
        "    # El boxplot nos mostrará toda la información relativa a las estadisticas de cada año, dependiendo de los indices d ecada mes\n",
        "    sns.boxplot(x=\"Año\", y=\"indice\", data=df,\n",
        "                          palette=\"coolwarm\", width=0.6, linewidth=1)\n",
        "\n",
        "    # Utilizamos un swarmplot para visualizar mejor los puntos, y entender el boxplot.\n",
        "    sns.swarmplot(x=\"Año\", y=\"indice\", data=df, size=3, color=\"purple\", alpha=0.8)\n",
        "\n",
        "    plt.title(\"Distribución de la Calidad del Aire por Año\", fontsize=16, weight='bold')\n",
        "    plt.suptitle(\"\", fontsize=12)\n",
        "    plt.xlabel(\"Año\", fontsize=14, weight='bold')\n",
        "    plt.ylabel(\"Media de Calidad del Aire\", fontsize=14, weight='bold')\n",
        "\n",
        "    # Asignamos las etiquetas correspondientes a los ejes\n",
        "    plt.xticks(rotation=45, fontsize=12)\n",
        "    plt.yticks(ticks=[1, 2, 3, 4, 5], labels=[\"Muy malo\", \"Malo\", \"Regular\", \"Bueno\", \"Muy bueno\"], fontsize=12)\n",
        "\n",
        "    plt.grid(True, linestyle='--', alpha=0.6)\n",
        "\n",
        "    plt.tight_layout()\n",
        "\n",
        "    plt.show()\n",
        "\n",
        "df_media_max_por_mes[\"Año\"] = df_media_max_por_mes[\"date\"].dt.year\n",
        "\n",
        "graficar_boxplot(df_media_max_por_mes)"
      ]
    },
    {
      "cell_type": "markdown",
      "metadata": {},
      "source": [
        "En el periodo anterior a las medidas de acceso, los datos oscilaban en un rango bastante grande, aunque cabe decir que seguían siendo valores bastante \"poco contaminantes\". En 2006 Madrid experienció la contaminación alta, ya que la mayoría de las categorías se encontraban entre Regular y Malo, pero aún así, se esperó hasta 2016 para implantar las medidas. Los valores obtenidos después del 30/12/2016 oscilan en un rango mucho menor, sobre todo si comparamos el año 2017 con los demás. Indica que las medidas surtieron efecto positivo, pero que nunca han sido del todo necesarias teniendo como referencia las buenas medias de calidad de aire entre los años 2001 y 2016. De hecho, antes del año de la instauración de las medidas (2008 - 2016), los datos eran bastante optimistas, lo que pone en duda si alguna vez fueron necesarias de verdad.\n",
        "No hay más que echar un ojo a un artículo de Septiembre 2024, donde se publicó que la Justicia tumbó las medidas de bajas emisiones de Madrid Centro a petición de Vox. son datos que confirman la teoría que acabamos de elaborar."
      ]
    },
    {
      "cell_type": "markdown",
      "metadata": {},
      "source": [
        "### 5. Bibliografía\n",
        "\n",
        "- Código para tratar valores nulos: \n",
        "  https://es.stackoverflow.com/questions/279443/c%C3%B3mo-calcular-el-recuento-de-datos-faltantes-para-columnas\n",
        "- Código para generar un pie chart personalizado: \n",
        "  https://numython.github.io/posts/graficas-de-pastel-con-matplotlib/\n",
        "- Código para generar un boxplot con el swarmplot combinado: \n",
        "  https://www.datacamp.com/es/tutorial/python-boxplots?dc_referrer=https%3A%2F%2Fwww.google.com%2F\n",
        "- Artículo sobre la intensidad de tráfico en Madrid: \n",
        "  https://www.comunidad.madrid/servicios/transporte/estudio-intensidad-media-diaria-vehiculos-imd https://datos.madrid.es/portal/site/egob/menuitem.c05c1f754a33a9fbe4b2e4b284f1a5a0/?vgnextoid=4a2e4207bb864410VgnVCM1000000b205a0aRCRD&vgnextchannel=374512b9ace9f310VgnVCM100000171f5a0aRCRD\n",
        "- Artículo \"La justicia tumba las zonas de bajas emisiones de Madrid a petición de VOX\": \n",
        "  https://climatica.coop/justicia-anula-zonas-bajas-emisiones-madrid/"
      ]
    }
  ],
  "metadata": {
    "colab": {
      "collapsed_sections": [
        "we3ec_nmqXTb",
        "JmdyuK49OUIQ",
        "udYC3iGR3mTx",
        "CthJqA6a32-K",
        "_5hAKNxWR_Cp"
      ],
      "provenance": []
    },
    "kernelspec": {
      "display_name": "Data_mining",
      "language": "python",
      "name": "python3"
    },
    "language_info": {
      "codemirror_mode": {
        "name": "ipython",
        "version": 3
      },
      "file_extension": ".py",
      "mimetype": "text/x-python",
      "name": "python",
      "nbconvert_exporter": "python",
      "pygments_lexer": "ipython3",
      "version": "3.13.2"
    }
  },
  "nbformat": 4,
  "nbformat_minor": 0
}
