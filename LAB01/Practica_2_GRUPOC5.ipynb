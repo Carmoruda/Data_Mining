{
 "cells": [
  {
   "cell_type": "markdown",
   "metadata": {
    "id": "Cmku494ZkoxN"
   },
   "source": [
    "# Aprendizaje Estadístico y Data Mining\n",
    "\n",
    "## Práctica 2: El impacto del terrorismo a lo largo de la historia\n",
    "\n",
    "### Objetivo\n",
    "El problema del terrorismo es actualmente considerado uno de los más graves para la población. Es un hecho\n",
    "que este ha ido cambiando a lo largo de la historia. Antaño los grupos terroristas actuaban en su propio país\n",
    "o en los países con los que compartía frontera. Hoy en día el terrorismo se considera como un problema global\n",
    "en el que prácticamente cualquier país puede sufrir sus consecuencias. En esta práctica intentaremos entender\n",
    "varias situaciones tanto actuales cómo históricas.\n",
    "\n",
    "Para ello haremos uso de un dataset con datos históricos de terrorismo desde el año 1970. El dataset contiene\n",
    "es un archivo csv con distintos atributos para cada atentado registrado.\n",
    "\n",
    "* [Link al dataset.](https://www.kaggle.com/datasets/START-UMD/gtd/downloads/globalterrorismdb_0718dist.csv/3)\n",
    "\n",
    "### Apartado 1\n",
    "\n",
    "**Enunciado:** Crear un DataFrame con las columnas esenciales: año (*iyear*), país (*country_txt*), región (*region_txt*), grupo terrorista (*gname*) y número de víctimas (*nkill*), y almacenarlo en un archivo CSV. Representar gráficamente la evolución del número total de víctimas por año mediante un diagrama de líneas para analizar si nos encontramos en la época más sangrienta de la historia. A continuación, generar otro diagrama de líneas que muestre el número de víctimas anuales por región para evaluar si la violencia ha sido constante en todas las zonas del mundo. Identificar posibles datos anómalos y destacar los años en los que el terrorismo ha tenido mayor impacto. Finalmente, examinar el impacto del 11S en el terrorismo a nivel mundial a partir de los datos obtenidos.\n",
    "\n",
    "**Solución**"
   ]
  },
  {
   "cell_type": "markdown",
   "metadata": {},
   "source": [
    "Para ello, realizaremos 3 estudios con diferentes datos.\n",
    "#### 1. Impacto del terrorismo a través de los años\n",
    "\n",
    "##### Preparación de datos\n",
    "En primer lugar, realizaremos un DataFrame para filtrar la información importante, el cual posteriormente utilizaremos para generar un nuevo archivo CSV que contenga dichos datos. Para ello, haremos uso de la libreria pandas. \n",
    "\n",
    "A la hora de generar el DataFrame a partir del CSV, tenemos que tener en cuenta el encoding del mismo. En este caso, hemos utilizado Notepad++ para descubrirlo, ya era la forma más sencilla. Al hacerlo, vemos que está codificado en ANSI, por lo que utilizaremos el encoding de windows-1252.\n"
   ]
  },
  {
   "cell_type": "code",
   "execution_count": null,
   "metadata": {},
   "outputs": [],
   "source": [
    "import pandas as pd\n",
    "df = pd.read_csv(\"data/globalterrorismdb_0718dist.csv\", usecols=['iyear', 'country_txt','region_txt','gname','nkill'] ,encoding=\"windows-1252\")\n",
    "print(df.head())"
   ]
  },
  {
   "cell_type": "markdown",
   "metadata": {},
   "source": [
    "De esta manera, tenemos nuestro DataFrame creado con los datos filtrados del CSV. De esta forma, tenemos un DataFrame con los datos limpios, por lo que ya estaríamos preparados para iniciar el estudio.\n",
    "\n",
    "Ahora, pasaremos este DataFrame a CSV de la siguiente manera."
   ]
  },
  {
   "cell_type": "code",
   "execution_count": null,
   "metadata": {},
   "outputs": [],
   "source": [
    "df.to_csv('data/terrorismo_limpio.csv')"
   ]
  },
  {
   "cell_type": "markdown",
   "metadata": {},
   "source": [
    "Teniendo estos datos, podemos comenzar a tratar con algúnas hipótesis planteadas. En primer lugar, con el fin de saber si nos encontramos en el año más violento, realizaremos un diagrama de línea con el total de víctimas de cada año. En este caso, utilizaremos la librería matplotlib."
   ]
  },
  {
   "cell_type": "code",
   "execution_count": null,
   "metadata": {},
   "outputs": [],
   "source": [
    "import matplotlib.pyplot as plt"
   ]
  },
  {
   "cell_type": "markdown",
   "metadata": {},
   "source": [
    "Lo primero que haremos será realizar una lista con los años de los que se tienen datos, de tal manera que extraigamos de forma única los años, que nos servirá para hacer el eje x."
   ]
  },
  {
   "cell_type": "code",
   "execution_count": null,
   "metadata": {},
   "outputs": [],
   "source": [
    "años = df['iyear'].unique()\n",
    "años = list(años)\n",
    "años.sort()\n",
    "print(años)"
   ]
  },
  {
   "cell_type": "markdown",
   "metadata": {},
   "source": [
    "Antes de continuar, comprobaremos que no haya campos con null, y en caso de haberlos, lo interpretaremos como que no se han registrado actos terroristas, es decir, 0."
   ]
  },
  {
   "cell_type": "code",
   "execution_count": null,
   "metadata": {},
   "outputs": [],
   "source": [
    "print(df.isnull().sum())"
   ]
  },
  {
   "cell_type": "markdown",
   "metadata": {},
   "source": [
    "En este casom al ser número de muertes, podemos igualarlo a 0. De esta manera evitaremos datos anómalos y errores en las gráficas."
   ]
  },
  {
   "cell_type": "code",
   "execution_count": null,
   "metadata": {},
   "outputs": [],
   "source": [
    "df['nkill'] = df['nkill'].fillna(0)\n",
    "print(df.isnull().sum())"
   ]
  },
  {
   "cell_type": "markdown",
   "metadata": {},
   "source": [
    "A continuación, debemos calcular el número de victimas de atentados terrorista por año. Para ello, agruparemos los datos del dataframe, centrandonos en los campos del año y el número de víctimas. De esta manera, y haciendo uso del método sum, nos hará el sumatorio de victimas de los atentados en cada año."
   ]
  },
  {
   "cell_type": "code",
   "execution_count": null,
   "metadata": {},
   "outputs": [],
   "source": [
    "victimas_por_año = df.groupby('iyear')['nkill'].sum().tolist()\n",
    "victimas_por_año"
   ]
  },
  {
   "cell_type": "markdown",
   "metadata": {},
   "source": [
    "Con esto, podemos hacer el gráfico de línea, de tal manera que nos permita saber cual es el año con más número de víctimas mortales en atentados de forma progresiva."
   ]
  },
  {
   "cell_type": "code",
   "execution_count": null,
   "metadata": {},
   "outputs": [],
   "source": [
    "plt.figure(figsize=(12, 6))\n",
    "plt.plot(años, victimas_por_año)\n",
    "plt.xlabel('Año')\n",
    "plt.ylabel('Número de Víctimas')\n",
    "plt.title('Número Victimas por Año')\n",
    "plt.grid(True)\n",
    "plt.show()\n"
   ]
  },
  {
   "cell_type": "markdown",
   "metadata": {},
   "source": [
    "Gracias al gráfico, podríamos concluir que definitivamente, **no nos encontramos** en el año más sangriento, pero si que es cierto que respecto a años anteriores, desde el 2012 superámos los números de años anteriores, por lo que a nivel de década, **si** nos encontramos en la época con más víctimas por atentados. El año que más número de víctimas de atentados terroristas fue en 2015, superando las 40000 víctimas. \n",
    "\n",
    "Estos datos son a nivel global, pero también sería interesante conocer los países con mayor número de víctimas anuales por región. En este caso, realizaremos un diagrama de líneas, que nos mostrará este balance simultaneamente. \n",
    "Para ello, debemos extraer nuestros datos agrupados por país."
   ]
  },
  {
   "cell_type": "code",
   "execution_count": null,
   "metadata": {},
   "outputs": [],
   "source": [
    "victimas_por_region= df.groupby(['iyear', 'region_txt'])['nkill'].sum().reset_index()\n",
    "regiones = victimas_por_region['region_txt'].unique()\n",
    "\n",
    "plt.figure(figsize=(12, 6))\n",
    "for region in regiones:\n",
    "    data_region = victimas_por_region[victimas_por_region['region_txt'] == region]\n",
    "    plt.plot(data_region['iyear'], data_region['nkill'], label=region)\n",
    "\n",
    "plt.xlabel('Año')\n",
    "\n",
    "plt.ylabel('Número de Víctimas')\n",
    "plt.title('Número de Víctimas por Región por Año')\n",
    "plt.legend(title='Regiones')\n",
    "plt.grid(True)\n",
    "\n",
    "# Grafico de barras para ver mejor los años con picos de victimas\n",
    "plt.figure(figsize=(12, 6))\n",
    "plt.bar(años, victimas_por_año)\n",
    "plt.grid(True)\n",
    "plt.show()"
   ]
  },
  {
   "cell_type": "markdown",
   "metadata": {},
   "source": [
    "Visto de esta forma, podemos decir que, en cierta manera, hay algunas regiones que historicamente, han tenido más episodios de violencia terrorista que el resto, en las que destacaría primer lugar el Medio-Este y el Norte de África, seguido un poco de las regiones del África Sub-Sahariano y del sur de Asia. También podemos observar un pico de atentados a partir del 2010, que cuadraría con el pico del gráfico que vimos anteriormente.\n",
    "\n",
    "Con todos estos datos, podemos decir que los años en los que el terrorismo ha tenido más impacto ha sido desde el 2012 en adelante, con un pico máximo en 2014.\n",
    "\n",
    "En cuanto al impacto del 11-S, podemos observar un pico precisamente en el año 2001, pero si nos vamos al gráfico de las regiones, podemos observar que tras este año, no volvieron a haber víctimas de terrorismo en Norte América. Si que es cierto que en los años posteriores, empezó el incremento, teniendo picos cada vez más altos en otras regiones, y haciendo que progresivamente fuesen habiendo más víctimas anuales."
   ]
  },
  {
   "cell_type": "markdown",
   "metadata": {},
   "source": [
    "### Apartado 2\n",
    "\n",
    "**Enunciado:** Identificar los 10 grupos terroristas que han causado el mayor número de víctimas a lo largo de la historia y representar esta información mediante un *pie chart*. Analizar la distribución de los datos, interpretando qué organizaciones han tenido un impacto más significativo y si existe una gran diferencia entre ellas en términos de víctimas causadas.\n",
    "\n",
    "**Solución**"
   ]
  },
  {
   "cell_type": "markdown",
   "metadata": {},
   "source": [
    "Para ello, agruparemos el DataFrame por grupo terrorista, y sumaremos todas las muertes que se les atribuyen en sus atentados. Una vez agrupados, para que el piechart quede bien agrupado, ordenaremos el nuevo DataFrame por número de muertes."
   ]
  },
  {
   "cell_type": "code",
   "execution_count": null,
   "metadata": {},
   "outputs": [],
   "source": [
    "muertes_por_grupo = df.groupby('gname')['nkill'].sum().reset_index()\n",
    "muertes_por_grupo = muertes_por_grupo.sort_values(by='nkill', ascending=False)\n",
    "\n",
    "grupos_mas_sanguinarios = muertes_por_grupo.head(10)\n",
    "\n",
    "plt.figure(figsize=(12,6))\n",
    "plt.pie(grupos_mas_sanguinarios['nkill'], labels=grupos_mas_sanguinarios['gname'], autopct='%1.1f%%')\n",
    "plt.show()"
   ]
  },
  {
   "cell_type": "markdown",
   "metadata": {},
   "source": [
    "Basandonos en el piechart, lo primero que salta a la vista esque el 44.3% de las víctimas por terrorismo a lo largo de la historia, no han sido atribuidas a un grupo como tal, es decir, que se desconoce la autoría de dichos atentados. \n",
    "\n",
    "A esta cifra le sigue el ISIL (mayormente conocido como ISIS), los Talibanes y el Boko Haram, grupos terroristas populares, conocidos por promulgar una versión extremista del Islám, la ley sharía. A sus respectivos porcentajes, más allá de los atentados que hayan realizado en occidente, se le suma las víctimas de sus guerras territoriales, por lo que puede ser la razón por la que encabezan el gráfico. \n",
    "\n",
    "Los demás grupos son grupos terroristas con menor impacto, algunos como el Al-Shabaab movidos por la Yihad, y otros grupos de insurgentes a sus regímenes, que al final han sido considerados terroristas."
   ]
  },
  {
   "cell_type": "markdown",
   "metadata": {},
   "source": [
    "### Apartado 3\n",
    "\n",
    "**Enunciado:** Encontrar un dataset con los PIBs de los distintos países y cruzarlo con el número de víctimas en atentados terroristas. Representar los datos mediante dos diagramas de dispersión: el primero mostrando la relación entre el número de víctimas y los 10 países con el PIB más bajo en el último año, y el segundo con los 10 países que han sufrido más víctimas en atentados y sus respectivos PIBs. Analizar los resultados para identificar posibles correlaciones entre crisis económicas y el impacto del terrorismo.\n",
    "\n",
    "**Solución**"
   ]
  },
  {
   "cell_type": "markdown",
   "metadata": {},
   "source": [
    "En este caso hemos decidido utilizar [este dataset](https://www.kaggle.com/datasets/fredericksalazar/pib-gdp-global-by-countries-since-1960-to-2021/data), que contiene los datos del PIB de todos los países desde 1960 hasta 2023. \n",
    "\n",
    "Con el dataset elegido, nos crearemos nuestro DataFrame con las columnas que nos interesan, que en este caso será el nombre del país, el año, y el PIB total en millones. Al intentar crear el dataframe, tuvimos que indicar el delimitador, ya que si no, pandas no detectaba la diferencia entre columnas."
   ]
  },
  {
   "cell_type": "code",
   "execution_count": null,
   "metadata": {},
   "outputs": [],
   "source": [
    "df_pib = pd.read_csv(\"data/countries_gdp_hist.csv\", usecols=['country_name', 'year', 'total_gdp_million'], delimiter=\";\")"
   ]
  },
  {
   "cell_type": "markdown",
   "metadata": {},
   "source": [
    "Ahora, prepararemos los DataFrames, cogiendo los datos del último año. En este caso como nuestro dataset del terrorismo llega hasta 2017, cogeremos los datos de ese año. Omitiremos los casos en los que el PIB es 0, ya que coincide con territorios como Gibraltar o Korea del Norte, donde los datos pueden no ser reales o directamente no sea relevante.\n"
   ]
  },
  {
   "cell_type": "code",
   "execution_count": null,
   "metadata": {},
   "outputs": [],
   "source": [
    "pib_mayor_cero = df_pib[df_pib['total_gdp_million'] > 0]\n",
    "\n",
    "pib_2017 = pib_mayor_cero[pib_mayor_cero['year'] == 2017]\n",
    "terrorismo_2017 = df[df['iyear'] == 2017]\n",
    "\n",
    "#Agrupamos el dataframe de terrorismo por paises y el número por víctimas por país.\n",
    "mayor_terrorismo_2017 = terrorismo_2017.groupby('country_txt')['nkill'].sum().sort_values(ascending=False).head(10)\n",
    "\n",
    "#Agrupamos el dataframe de PIB por menor PIB en millones\n",
    "menor_pib_2017 = pib_2017.sort_values('total_gdp_million').head(10)\n",
    "\n"
   ]
  },
  {
   "cell_type": "markdown",
   "metadata": {},
   "source": [
    "Ya con los DataFrames acotados al año y agrupados por países, tocaría preparar los DataFrames. Como más adelante vamos a tener que fusionar ambos por país, debemos asegurarnos de que el formato sea el mismo. Para ello, en primer lugar observaremos como están escritos."
   ]
  },
  {
   "cell_type": "code",
   "execution_count": null,
   "metadata": {},
   "outputs": [],
   "source": [
    "menor_pib_2017_paises = menor_pib_2017['country_name'].tolist()\n",
    "mayor_terrorismo_2017_paises = mayor_terrorismo_2017.index.tolist()\n",
    "\"\"\"\n",
    "print(menor_pib_2017_paises)\n",
    "print(mayor_terrorismo_2017_paises)\n",
    "\"\"\"\n"
   ]
  },
  {
   "cell_type": "markdown",
   "metadata": {},
   "source": [
    "A simple vista, podemos ver que los nombres de los paises del dataset del PIB están en mayúsculas, por lo que en primer lugar, haremos que los paises del dataset del terrorismo también lo estén."
   ]
  },
  {
   "cell_type": "code",
   "execution_count": null,
   "metadata": {},
   "outputs": [],
   "source": [
    "terrorismo_2017.loc[:,'country_txt'] = terrorismo_2017['country_txt'].str.upper()\n",
    "mayor_terrorismo_2017 = terrorismo_2017.groupby('country_txt')['nkill'].sum().sort_values(ascending=False).head(10)\n",
    "mayor_terrorismo_2017_paises = mayor_terrorismo_2017.index.tolist()\n",
    "terrorismo_2017_paises = terrorismo_2017['country_txt'].unique().tolist()"
   ]
  },
  {
   "cell_type": "markdown",
   "metadata": {},
   "source": [
    "Ya con los nombres en mayúsculas, tendríamos la mayor parte de los países cubiertos. Aún así, hay casos especiales que debemos mirar, como por ejemplo, países como Micronesia, ya que tiene un formato peculiar, consistente en: NOMBREPAIS (REPUBLICA/ESTADO). Esto podría ocurrir también con paises como El Congo o Republica Dominicana. Es por eso que haremos una busqueda en el dataframe sobre estos países. Como solo vamos a utilizar los 20 paises listados anteriormente, podemos buscarlos directamente."
   ]
  },
  {
   "cell_type": "code",
   "execution_count": null,
   "metadata": {},
   "outputs": [],
   "source": [
    "paises_terror_ordenados = sorted(terrorismo_2017['country_txt'].unique())\n",
    "paises_pib_ordenados = sorted(pib_2017['country_name'].unique())\n",
    "\n",
    "#print(paises_terror_ordenados)\n",
    "#print(paises_pib_ordenados)"
   ]
  },
  {
   "cell_type": "markdown",
   "metadata": {},
   "source": [
    "Al listar los paises así, vemos que en principio, el único problema que habría sería con El Congo y Republica Dominicana, por lo que sustituiremos el nombre en el DataFrame del PIB para que sea coincidente con el del terrorismo."
   ]
  },
  {
   "cell_type": "code",
   "execution_count": null,
   "metadata": {},
   "outputs": [],
   "source": [
    "pib_2017.loc[:,'country_name'] = pib_2017['country_name'].replace(\n",
    "    {'CONGO, DEMOCRATIC REPUBLIC OF THE': 'DEMOCRATIC REPUBLIC OF THE CONGO', 'CONGO': 'DEMOCRATIC REPUBLIC OF THE CONGO', 'DOMINICA': 'DOMINICAN REPUBLIC'}\n",
    ")\n",
    "menor_pib_2017_paises = menor_pib_2017['country_name'].tolist()\n",
    "\n"
   ]
  },
  {
   "cell_type": "markdown",
   "metadata": {},
   "source": [
    "Como el Dataset de terrorismo no tiene menos países que el del PIB, utilizaremos aquellos que **sí** que tengan en común."
   ]
  },
  {
   "cell_type": "code",
   "execution_count": null,
   "metadata": {},
   "outputs": [],
   "source": [
    "menor_pib_2017_comunes = pib_2017[pib_2017['country_name'].isin(terrorismo_2017_paises)]\n",
    "menor_pib_2017 = menor_pib_2017_comunes.sort_values('total_gdp_million').head(10)\n",
    "menor_pib_2017_paises = menor_pib_2017['country_name'].tolist()\n",
    "print(sorted(menor_pib_2017_paises))\n",
    "print(sorted(terrorismo_2017_paises))\n"
   ]
  },
  {
   "cell_type": "markdown",
   "metadata": {},
   "source": [
    "Ya con los datos verificados, procederemos a fusionar los DataFrames. En este caso, haremos la combinación mediante el nombre del país, y solo utilizaremos los países que estén en ambos DataFrames (de ahí el método de combinación inner)."
   ]
  },
  {
   "cell_type": "code",
   "execution_count": null,
   "metadata": {},
   "outputs": [],
   "source": [
    "# DataFrame 1, PIB más bajo en el último año y el número de víctimas en atentados\n",
    "terrorismo_2017_filtrado = terrorismo_2017[terrorismo_2017['country_txt'].isin(menor_pib_2017_paises)]\n",
    "df_menor_pib_terrorismo = pd.merge(menor_pib_2017, terrorismo_2017_filtrado, left_on='country_name', right_on='country_txt', how='inner')\n",
    "\n",
    "df_menor_pib_terrorismo = df_menor_pib_terrorismo.groupby(['country_name', 'year', 'total_gdp_million'], as_index=False)['nkill'].sum()\n",
    "df_menor_pib_terrorismo = df_menor_pib_terrorismo[['country_name', 'year', 'total_gdp_million', 'nkill']]\n",
    "\n",
    "df_menor_pib_terrorismo = df_menor_pib_terrorismo.sort_values(by='total_gdp_million', ascending=True)\n",
    "\n",
    "print(df_menor_pib_terrorismo)\n"
   ]
  },
  {
   "cell_type": "code",
   "execution_count": null,
   "metadata": {},
   "outputs": [],
   "source": [
    "# DataFrame 2, 10 países con más víctimas en el último año y sus PIBs\n",
    "top_10_terrorismo_2017 = mayor_terrorismo_2017.head(10)\n",
    "paises_mayor_terrorismo = top_10_terrorismo_2017.index.tolist()\n",
    "\n",
    "pib_mayor_terrorismo_2017 = pib_2017[pib_2017['country_name'].isin(paises_mayor_terrorismo)]\n",
    "df_mayor_terrorismo_pib = pd.merge(pib_mayor_terrorismo_2017, mayor_terrorismo_2017, left_on='country_name', right_index=True, how='inner')\n",
    "df_mayor_terrorismo_pib = df_mayor_terrorismo_pib[['country_name', 'year', 'total_gdp_million', 'nkill']]\n",
    "\n",
    "df_mayor_terrorismo_pib = df_mayor_terrorismo_pib .sort_values(by='nkill', ascending=True)\n",
    "\n",
    "print(df_mayor_terrorismo_pib)\n"
   ]
  },
  {
   "cell_type": "markdown",
   "metadata": {},
   "source": [
    "Ya con el nuevo DataFrame generado, podemos proceder con la creación de los diagramas de dispersión."
   ]
  },
  {
   "cell_type": "code",
   "execution_count": null,
   "metadata": {},
   "outputs": [],
   "source": [
    "# Diagrama 1\n",
    "plt.figure(figsize=(12, 6))\n",
    "plt.scatter(df_menor_pib_terrorismo['total_gdp_million'], df_menor_pib_terrorismo['nkill'])\n",
    "\n",
    "\n",
    "plt.title(\"Relación PIB Bajo  y Nº de Víctimas\")\n",
    "plt.xlabel(\"PIB (millones de dólares)\")\n",
    "plt.ylabel(\"Nº Víctimas\")\n",
    "plt.grid(True)\n",
    "\n",
    "plt.show()\n"
   ]
  },
  {
   "cell_type": "code",
   "execution_count": null,
   "metadata": {},
   "outputs": [],
   "source": [
    "#Diagrama 2\n",
    "plt.figure(figsize=(12, 6))\n",
    "plt.scatter(df_mayor_terrorismo_pib['total_gdp_million'], df_mayor_terrorismo_pib['nkill'])\n",
    "\n",
    "plt.title(\"Relación Mayor Nº Víctimas con PIB\")\n",
    "plt.xlabel(\"PIB (millones de dólares)\")\n",
    "plt.ylabel(\"Nº Víctimas\")\n",
    "plt.grid(True)\n",
    "\n",
    "plt.show()"
   ]
  },
  {
   "cell_type": "markdown",
   "metadata": {},
   "source": [
    "Es curioso que los países con más víctimas por atentados terroristas son también los que presentan un PIB más alto, mientras que aquellos con menos fallecidos por actos terroristas tienden a tener un PIB más bajo.\n",
    "\n",
    "Una posible hipótesis es que los países con menor PIB no resulten ser objetivos atractivos para los grupos terroristas, ya sea porque no ofrecen grandes beneficios o porque los atentados no generarían tanta repercusión. Por otro lado, los países más desarrollados podrían ser más atractivos para los terroristas, ya que los atentados en esos lugares suelen tener una mayor visibilidad y, por lo tanto, mayor impacto.\n",
    "\n",
    "Otra posibilidad es que en los países menos desarrollados haya menos tensiones internas que puedan desencadenar actos de terrorismo, mientras que en los países más desarrollados las causas económicas o sociales podrían ser factores que fomenten estos actos."
   ]
  }
 ],
 "metadata": {
  "colab": {
   "collapsed_sections": [
    "we3ec_nmqXTb",
    "JmdyuK49OUIQ",
    "udYC3iGR3mTx",
    "CthJqA6a32-K",
    "_5hAKNxWR_Cp"
   ],
   "provenance": []
  },
  "kernelspec": {
   "display_name": "Data_mining",
   "language": "python",
   "name": "python3"
  },
  "language_info": {
   "codemirror_mode": {
    "name": "ipython",
    "version": 3
   },
   "file_extension": ".py",
   "mimetype": "text/x-python",
   "name": "python",
   "nbconvert_exporter": "python",
   "pygments_lexer": "ipython3",
   "version": "3.13.2"
  }
 },
 "nbformat": 4,
 "nbformat_minor": 0
}
